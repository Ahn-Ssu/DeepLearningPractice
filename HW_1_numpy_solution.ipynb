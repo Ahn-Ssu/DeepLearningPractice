{
  "nbformat": 4,
  "nbformat_minor": 0,
  "metadata": {
    "colab": {
      "name": "HW_1_numpy_solution.ipynb",
      "provenance": [],
      "collapsed_sections": []
    },
    "kernelspec": {
      "name": "python3",
      "display_name": "Python 3"
    }
  },
  "cells": [
    {
      "cell_type": "markdown",
      "metadata": {
        "id": "ih7yHYxosy_Z",
        "colab_type": "text"
      },
      "source": [
        "# numpy practice"
      ]
    },
    {
      "cell_type": "code",
      "metadata": {
        "id": "W1qShp-NfP2q",
        "colab_type": "code",
        "colab": {}
      },
      "source": [
        "import numpy as np\n",
        "np.set_printoptions(suppress = True)     # disable displaying in scientific form (e.g., 1.32847E2)"
      ],
      "execution_count": 2,
      "outputs": []
    },
    {
      "cell_type": "markdown",
      "metadata": {
        "id": "Jr7utE1YoZ_K",
        "colab_type": "text"
      },
      "source": [
        "TO DO:\n",
        "Initialize random seed by current time.\n",
        "(use np.random.seed().)"
      ]
    },
    {
      "cell_type": "code",
      "metadata": {
        "id": "SRkvfWgXhsrm",
        "colab_type": "code",
        "colab": {}
      },
      "source": [
        "import time\n",
        "\n",
        "np.random.seed(int(time.time()))\n"
      ],
      "execution_count": 3,
      "outputs": []
    },
    {
      "cell_type": "code",
      "metadata": {
        "id": "snoEVL9nXBhL",
        "colab_type": "code",
        "colab": {}
      },
      "source": [
        "# constants\n",
        "lower = 0\n",
        "upper = 100\n",
        "range = upper - lower\n",
        "bins = 10             # of bins in histogram"
      ],
      "execution_count": 4,
      "outputs": []
    },
    {
      "cell_type": "markdown",
      "metadata": {
        "id": "ijIOPSYioyxc",
        "colab_type": "text"
      },
      "source": [
        "TO DO: Create an array A_data with 100 uniform random numbers in  [lower, upper) using np.random.random().\n",
        "\n",
        "Then, print A_data."
      ]
    },
    {
      "cell_type": "code",
      "metadata": {
        "id": "eCgTaN_RfRvq",
        "colab_type": "code",
        "colab": {
          "base_uri": "https://localhost:8080/",
          "height": 325
        },
        "outputId": "3deac401-f42c-4f97-af90-70ee63e228dc"
      },
      "source": [
        "A_data = np.random.random(upper) * range\n",
        "print(A_data)"
      ],
      "execution_count": 5,
      "outputs": [
        {
          "output_type": "stream",
          "text": [
            "[54.08650233 51.91804259 63.60762098 87.86528092  6.23442124 34.11575573\n",
            " 81.03753342 50.82145041 48.37982115 39.66233108 86.13422148 34.9851138\n",
            " 47.59580415 36.96218432 96.23921952 28.60515205 51.62010744 65.21267352\n",
            " 83.74930104 63.80796914 46.85851455 27.52470067  2.12030432 88.99698377\n",
            " 69.27041114 99.70421398 97.24816205 23.68212604 70.89432545 22.44657666\n",
            " 74.76727297 45.88109745 45.15653716  8.06695066 93.60766968  6.95648033\n",
            " 32.80090458 57.09904514 59.05952556 94.1527198  94.55667543 70.11613384\n",
            " 95.74222152 70.22508211 51.71058364 36.11549056 57.54104335 24.33063297\n",
            " 44.23642294 98.38347854 89.04549542 30.76674354 71.96935219 60.51207442\n",
            " 35.51244065 93.10906006 59.6489853  48.84055026 41.81810957 99.99653016\n",
            " 94.98914834  5.78924403 25.8680594  88.55931566 89.41440326 63.2587613\n",
            " 42.254592   14.78678819 60.66424791 47.70344821 91.57713363 95.48687423\n",
            " 83.58445779 21.32245914 56.25959629 56.58100083 29.66177736 73.49303427\n",
            " 18.17078745 17.84327842 63.20861251 45.85796557 74.01873902 27.03253294\n",
            " 16.99172554 85.77086307 59.05956718 28.06062493 90.77891244 36.82740699\n",
            " 55.61984948 25.58629532 16.30795976 94.70066778 10.26504911  4.19317304\n",
            " 17.82936565 61.28800428 42.65117538 27.61740824]\n"
          ],
          "name": "stdout"
        }
      ]
    },
    {
      "cell_type": "markdown",
      "metadata": {
        "id": "KcCOzeabpbTb",
        "colab_type": "text"
      },
      "source": [
        "TO DO: Print the mean and standard deviation of A_data."
      ]
    },
    {
      "cell_type": "code",
      "metadata": {
        "id": "Y4eVtr37ST-I",
        "colab_type": "code",
        "colab": {
          "base_uri": "https://localhost:8080/",
          "height": 53
        },
        "outputId": "65448db3-f44d-4967-c131-0b5343a481c8"
      },
      "source": [
        "print(\"mean of A = \",np.mean(A_data))\n",
        "print(\"stdev of A = \",np.std(A_data))"
      ],
      "execution_count": 6,
      "outputs": [
        {
          "output_type": "stream",
          "text": [
            "mean of A =  54.14046440639063\n",
            "stdev of A =  27.842681657710443\n"
          ],
          "name": "stdout"
        }
      ]
    },
    {
      "cell_type": "markdown",
      "metadata": {
        "id": "IElTu4xTpkg7",
        "colab_type": "text"
      },
      "source": [
        "TO DO: Create an array A_label filled with zeros. The length of the array should be the same as A_data.\n",
        "\n",
        "Then, print A_label."
      ]
    },
    {
      "cell_type": "code",
      "metadata": {
        "id": "Lh36wMDESoCe",
        "colab_type": "code",
        "colab": {
          "base_uri": "https://localhost:8080/",
          "height": 108
        },
        "outputId": "14673471-9574-4717-ea60-2808f1d04def"
      },
      "source": [
        "A_label = np.zeros(len(A_data))\n",
        "print(A_label)"
      ],
      "execution_count": 7,
      "outputs": [
        {
          "output_type": "stream",
          "text": [
            "[0. 0. 0. 0. 0. 0. 0. 0. 0. 0. 0. 0. 0. 0. 0. 0. 0. 0. 0. 0. 0. 0. 0. 0.\n",
            " 0. 0. 0. 0. 0. 0. 0. 0. 0. 0. 0. 0. 0. 0. 0. 0. 0. 0. 0. 0. 0. 0. 0. 0.\n",
            " 0. 0. 0. 0. 0. 0. 0. 0. 0. 0. 0. 0. 0. 0. 0. 0. 0. 0. 0. 0. 0. 0. 0. 0.\n",
            " 0. 0. 0. 0. 0. 0. 0. 0. 0. 0. 0. 0. 0. 0. 0. 0. 0. 0. 0. 0. 0. 0. 0. 0.\n",
            " 0. 0. 0. 0.]\n"
          ],
          "name": "stdout"
        }
      ]
    },
    {
      "cell_type": "markdown",
      "metadata": {
        "id": "00LC6Dr5p9qD",
        "colab_type": "text"
      },
      "source": [
        "TO DO: Creat a 100x2 array A by concatenating A_data and A_label along horizontal axis.\n",
        "\n",
        "Then, print the first 10 rows of A."
      ]
    },
    {
      "cell_type": "code",
      "metadata": {
        "id": "_16Uhqd8TNGl",
        "colab_type": "code",
        "colab": {
          "base_uri": "https://localhost:8080/",
          "height": 198
        },
        "outputId": "a5081ae5-a935-4b10-ea23-8f335946088d"
      },
      "source": [
        "A = np.concatenate((A_data.reshape(-1,1), A_label.reshape(-1,1)), axis=1)\n",
        "print(A[:10])"
      ],
      "execution_count": 8,
      "outputs": [
        {
          "output_type": "stream",
          "text": [
            "[[54.08650233  0.        ]\n",
            " [51.91804259  0.        ]\n",
            " [63.60762098  0.        ]\n",
            " [87.86528092  0.        ]\n",
            " [ 6.23442124  0.        ]\n",
            " [34.11575573  0.        ]\n",
            " [81.03753342  0.        ]\n",
            " [50.82145041  0.        ]\n",
            " [48.37982115  0.        ]\n",
            " [39.66233108  0.        ]]\n"
          ],
          "name": "stdout"
        }
      ]
    },
    {
      "cell_type": "markdown",
      "metadata": {
        "id": "CGKgpolfrR7c",
        "colab_type": "text"
      },
      "source": [
        "TO DO: Create an array B_data with 100 Gaussian random numbers $N(35, 10^2)$ using np.random.normal().\n",
        "\n",
        "Then, print B_data."
      ]
    },
    {
      "cell_type": "code",
      "metadata": {
        "id": "o3pa82FofV58",
        "colab_type": "code",
        "colab": {
          "base_uri": "https://localhost:8080/",
          "height": 325
        },
        "outputId": "f1beb6aa-22a4-47e6-f8de-5fd0580fc2ea"
      },
      "source": [
        "B_data = np.random.normal(35, 10, upper)\n",
        "print(B_data)"
      ],
      "execution_count": 9,
      "outputs": [
        {
          "output_type": "stream",
          "text": [
            "[18.84154358 37.79307152 26.62593188 37.35004773 32.88349725 28.09971369\n",
            " 33.76321804 26.88878962 19.04107262 40.48177767 31.36408422 53.91307736\n",
            " 32.02727889 37.23637868 34.84954562 29.28126889 37.19540029 32.68179761\n",
            " 52.00807402 47.21802899 43.1787783  41.58586169 17.54314634 32.50888873\n",
            " 43.73958655 25.15652987 43.4041108  28.89803518 37.38807881 37.87682341\n",
            " 35.46791777 28.73567021 48.55029398 44.08992062 34.84485929 37.76531822\n",
            " 46.38324272 34.32304683 33.0924955  42.22331063 34.368715   30.08092613\n",
            " 44.09682665 48.94403162 42.20195756 32.05273951 42.10622576 54.67292686\n",
            " 42.50982866 18.34406147 32.31688286 19.61286189 27.95142837 39.84202322\n",
            " 26.00657573 17.32160444 30.32467685 32.51162616 39.63119135 48.28705825\n",
            " 28.12833774 24.30257351 31.3125087  30.8204131  10.77909921 49.18384691\n",
            " 39.1146907  35.74342765 28.24154128 36.55200953 34.47919483 20.94213744\n",
            " 50.20102508 30.6966538  40.64799471 31.2718517  48.99393867 34.5016029\n",
            " 24.84160688 14.22188619 47.22265067 33.27481638 35.85335438 26.18288665\n",
            " 35.8898484  24.84180363 32.54761521 51.85183367 42.36083703 40.7536671\n",
            " 34.67599047 35.69194401 30.10466861 37.36517831 45.10333814 27.3225533\n",
            " 52.96626591 37.88151589 37.53394657 40.33058481]\n"
          ],
          "name": "stdout"
        }
      ]
    },
    {
      "cell_type": "markdown",
      "metadata": {
        "id": "_Ru5YxOwugfw",
        "colab_type": "text"
      },
      "source": [
        "TO DO: Print the mean and standard deviation of B_data."
      ]
    },
    {
      "cell_type": "code",
      "metadata": {
        "id": "nXLdu1_TSxvc",
        "colab_type": "code",
        "colab": {
          "base_uri": "https://localhost:8080/",
          "height": 53
        },
        "outputId": "5882f158-6e78-45db-f0fd-6a4b01c1f213"
      },
      "source": [
        "print(\"mean of B = \",np.mean(B_data))\n",
        "print(\"stdev of B = \",np.std(B_data))"
      ],
      "execution_count": 10,
      "outputs": [
        {
          "output_type": "stream",
          "text": [
            "mean of B =  35.242153216442915\n",
            "stdev of B =  9.183923471314214\n"
          ],
          "name": "stdout"
        }
      ]
    },
    {
      "cell_type": "markdown",
      "metadata": {
        "id": "E2R8jP0VukUv",
        "colab_type": "text"
      },
      "source": [
        "TO DO: Create an array B_label filled with ones. The length of the array should be the same as B_data.\n",
        "\n",
        "Then, print B_label."
      ]
    },
    {
      "cell_type": "code",
      "metadata": {
        "id": "OgsvTKwlSvUF",
        "colab_type": "code",
        "colab": {
          "base_uri": "https://localhost:8080/",
          "height": 108
        },
        "outputId": "1bea9a31-37c3-400f-a6bb-10a5cb301914"
      },
      "source": [
        "B_label = np.ones(len(B_data))\n",
        "print(B_label)"
      ],
      "execution_count": 11,
      "outputs": [
        {
          "output_type": "stream",
          "text": [
            "[1. 1. 1. 1. 1. 1. 1. 1. 1. 1. 1. 1. 1. 1. 1. 1. 1. 1. 1. 1. 1. 1. 1. 1.\n",
            " 1. 1. 1. 1. 1. 1. 1. 1. 1. 1. 1. 1. 1. 1. 1. 1. 1. 1. 1. 1. 1. 1. 1. 1.\n",
            " 1. 1. 1. 1. 1. 1. 1. 1. 1. 1. 1. 1. 1. 1. 1. 1. 1. 1. 1. 1. 1. 1. 1. 1.\n",
            " 1. 1. 1. 1. 1. 1. 1. 1. 1. 1. 1. 1. 1. 1. 1. 1. 1. 1. 1. 1. 1. 1. 1. 1.\n",
            " 1. 1. 1. 1.]\n"
          ],
          "name": "stdout"
        }
      ]
    },
    {
      "cell_type": "markdown",
      "metadata": {
        "id": "ujWuWumLup7n",
        "colab_type": "text"
      },
      "source": [
        "TO DO: Creat a 100x2 array B by concatenating B_data and B_label along horizontal axis.\n",
        "\n",
        "Then, print the first 10 rows of B."
      ]
    },
    {
      "cell_type": "code",
      "metadata": {
        "id": "qfFQePcif4O5",
        "colab_type": "code",
        "colab": {
          "base_uri": "https://localhost:8080/",
          "height": 198
        },
        "outputId": "12a7c21c-1177-40d4-f467-d2ed4d943d3d"
      },
      "source": [
        "B = np.concatenate((B_data.reshape(-1,1), B_label.reshape(-1,1)), axis=1)\n",
        "print(B[:10])"
      ],
      "execution_count": 12,
      "outputs": [
        {
          "output_type": "stream",
          "text": [
            "[[18.84154358  1.        ]\n",
            " [37.79307152  1.        ]\n",
            " [26.62593188  1.        ]\n",
            " [37.35004773  1.        ]\n",
            " [32.88349725  1.        ]\n",
            " [28.09971369  1.        ]\n",
            " [33.76321804  1.        ]\n",
            " [26.88878962  1.        ]\n",
            " [19.04107262  1.        ]\n",
            " [40.48177767  1.        ]]\n"
          ],
          "name": "stdout"
        }
      ]
    },
    {
      "cell_type": "markdown",
      "metadata": {
        "id": "X6i4IF53eDS1",
        "colab_type": "text"
      },
      "source": [
        ""
      ]
    },
    {
      "cell_type": "markdown",
      "metadata": {
        "id": "mhWAsTTJutAp",
        "colab_type": "text"
      },
      "source": [
        "TO DO: Print the histograms of A_data and B_data using np.hisogram(). The histograms have 10 bins and its range is from lower to upper.\n",
        "\n",
        "Then, display the two histograms"
      ]
    },
    {
      "cell_type": "code",
      "metadata": {
        "id": "fucquM2HgXHl",
        "colab_type": "code",
        "colab": {
          "base_uri": "https://localhost:8080/",
          "height": 53
        },
        "outputId": "fcab2c47-07e7-4a5e-9946-d90717f32689"
      },
      "source": [
        "#  ?? \n",
        "\n",
        "print(np.histogram(A_data, range=(lower, upper), bins=bins))\n",
        "print(np.histogram(B_data, range=(lower, upper), bins=bins))"
      ],
      "execution_count": 17,
      "outputs": [
        {
          "output_type": "stream",
          "text": [
            "(array([ 6,  7, 12,  9, 12, 13,  9,  7, 10, 15]), array([  0.,  10.,  20.,  30.,  40.,  50.,  60.,  70.,  80.,  90., 100.]))\n",
            "(array([ 0,  8, 17, 45, 24,  6,  0,  0,  0,  0]), array([  0.,  10.,  20.,  30.,  40.,  50.,  60.,  70.,  80.,  90., 100.]))\n"
          ],
          "name": "stdout"
        }
      ]
    },
    {
      "cell_type": "markdown",
      "metadata": {
        "id": "YmQzkVPjwlom",
        "colab_type": "text"
      },
      "source": [
        "TO DO: Create a 200x2 array D by concatenating A and B.\n",
        "\n",
        "Shuffle the rows of D using np.rand.shuffle().\n",
        "\n",
        "Then, display the first 20 rows of D.\n"
      ]
    },
    {
      "cell_type": "code",
      "metadata": {
        "id": "G5q66edGj6AA",
        "colab_type": "code",
        "colab": {
          "base_uri": "https://localhost:8080/",
          "height": 379
        },
        "outputId": "6bf71003-eb18-4d68-d3b4-e1d5f2d8b71a"
      },
      "source": [
        "D = np.concatenate((A,B), axis=0)\n",
        "np.random.shuffle(D)\n",
        "print(D[:20])"
      ],
      "execution_count": 18,
      "outputs": [
        {
          "output_type": "stream",
          "text": [
            "[[30.8204131   1.        ]\n",
            " [34.84485929  1.        ]\n",
            " [88.55931566  0.        ]\n",
            " [93.60766968  0.        ]\n",
            " [98.38347854  0.        ]\n",
            " [37.53394657  1.        ]\n",
            " [17.54314634  1.        ]\n",
            " [27.3225533   1.        ]\n",
            " [85.77086307  0.        ]\n",
            " [54.08650233  0.        ]\n",
            " [42.20195756  1.        ]\n",
            " [70.89432545  0.        ]\n",
            " [43.73958655  1.        ]\n",
            " [ 6.95648033  0.        ]\n",
            " [35.51244065  0.        ]\n",
            " [34.9851138   0.        ]\n",
            " [41.58586169  1.        ]\n",
            " [36.82740699  0.        ]\n",
            " [29.66177736  0.        ]\n",
            " [16.99172554  0.        ]]\n"
          ],
          "name": "stdout"
        }
      ]
    },
    {
      "cell_type": "markdown",
      "metadata": {
        "id": "3k8h_4s8s51Y",
        "colab_type": "text"
      },
      "source": [
        "# matplotlib practice"
      ]
    },
    {
      "cell_type": "code",
      "metadata": {
        "id": "WiNLBgc_WGlg",
        "colab_type": "code",
        "colab": {}
      },
      "source": [
        "import matplotlib.pyplot as plt"
      ],
      "execution_count": 19,
      "outputs": []
    },
    {
      "cell_type": "markdown",
      "metadata": {
        "id": "aB1ajjRLx5vx",
        "colab_type": "text"
      },
      "source": [
        "TO DO: draw the histograms of A_data and B_data as the following example. Use plt.subplot() and plt.hist().\n",
        "\n",
        "The histograms have 10 bins and their ranges are [0, 100)."
      ]
    },
    {
      "cell_type": "code",
      "metadata": {
        "id": "fqxnTeUCXsdQ",
        "colab_type": "code",
        "colab": {
          "base_uri": "https://localhost:8080/",
          "height": 373
        },
        "outputId": "148a5095-91a5-4085-ae4f-dac35437561b"
      },
      "source": [
        "plt.subplot(211)\n",
        "print(plt.hist(A_data, bins))\n",
        "plt.subplot(212)\n",
        "print(plt.hist(B_data, bins))\n",
        "\n",
        "plt.show()"
      ],
      "execution_count": 20,
      "outputs": [
        {
          "output_type": "stream",
          "text": [
            "(array([ 7.,  7., 12.,  8., 13., 14.,  9.,  5., 10., 15.]), array([ 2.12030432, 11.9079269 , 21.69554949, 31.48317207, 41.27079465,\n",
            "       51.05841724, 60.84603982, 70.63366241, 80.42128499, 90.20890758,\n",
            "       99.99653016]), <a list of 10 Patch objects>)\n",
            "(array([ 2.,  5.,  2., 13., 18., 17., 17., 12.,  9.,  5.]), array([10.77909921, 15.16848198, 19.55786474, 23.94724751, 28.33663027,\n",
            "       32.72601304, 37.1153958 , 41.50477857, 45.89416133, 50.2835441 ,\n",
            "       54.67292686]), <a list of 10 Patch objects>)\n"
          ],
          "name": "stdout"
        },
        {
          "output_type": "display_data",
          "data": {
            "image/png": "[encoded data removed]",
            "text/plain": [
              "<Figure size 432x288 with 2 Axes>"
            ]
          },
          "metadata": {
            "tags": [],
            "needs_background": "light"
          }
        }
      ]
    },
    {
      "cell_type": "markdown",
      "metadata": {
        "id": "oBVpO8ABy9k2",
        "colab_type": "text"
      },
      "source": [
        "TO DO: draw the histogram of the first column of D. Use [] and : operators to retrieve the first column of D."
      ]
    },
    {
      "cell_type": "code",
      "metadata": {
        "id": "dxt1vJO-mwmZ",
        "colab_type": "code",
        "colab": {
          "base_uri": "https://localhost:8080/",
          "height": 283
        },
        "outputId": "6bb1af4f-64da-4c2a-b13f-b78dcad6799f"
      },
      "source": [
        "plt.subplot(111)\n",
        "print(plt.hist(D[:, 0:1], range=(lower, upper), bins=bins))\n",
        "plt.show()"
      ],
      "execution_count": 22,
      "outputs": [
        {
          "output_type": "stream",
          "text": [
            "(array([ 6., 15., 29., 54., 36., 19.,  9.,  7., 10., 15.]), array([  0.,  10.,  20.,  30.,  40.,  50.,  60.,  70.,  80.,  90., 100.]), <a list of 10 Patch objects>)\n"
          ],
          "name": "stdout"
        },
        {
          "output_type": "display_data",
          "data": {
            "image/png": "[encoded data removed]",
            "text/plain": [
              "<Figure size 432x288 with 1 Axes>"
            ]
          },
          "metadata": {
            "tags": [],
            "needs_background": "light"
          }
        }
      ]
    },
    {
      "cell_type": "markdown",
      "metadata": {
        "id": "wdGGKkq-s_iQ",
        "colab_type": "text"
      },
      "source": [
        "# pandas practice"
      ]
    },
    {
      "cell_type": "code",
      "metadata": {
        "id": "-7N4o7U3tDC5",
        "colab_type": "code",
        "colab": {}
      },
      "source": [
        "import pandas as pd"
      ],
      "execution_count": null,
      "outputs": []
    },
    {
      "cell_type": "markdown",
      "metadata": {
        "id": "cuxz3JcN1CHF",
        "colab_type": "text"
      },
      "source": [
        "TO DO: create a DataFrame df from numpy array D. Set the column names by ['X', 'Y']"
      ]
    },
    {
      "cell_type": "code",
      "metadata": {
        "id": "zyCMfzbPtFVN",
        "colab_type": "code",
        "colab": {}
      },
      "source": [
        "df = pd.DataFrame(D, columns=list('XY'))"
      ],
      "execution_count": null,
      "outputs": []
    },
    {
      "cell_type": "markdown",
      "metadata": {
        "id": "pWOytaKK1QuE",
        "colab_type": "text"
      },
      "source": [
        "TO DO: display count, mean, std, and the five-number summary using describe()."
      ]
    },
    {
      "cell_type": "code",
      "metadata": {
        "id": "talpQMmvtOHd",
        "colab_type": "code",
        "colab": {
          "base_uri": "https://localhost:8080/",
          "height": 292
        },
        "outputId": "5602759f-f5bf-4ec0-9bc5-0de78f95f2fa"
      },
      "source": [
        "df.describe()"
      ],
      "execution_count": null,
      "outputs": [
        {
          "output_type": "execute_result",
          "data": {
            "text/html": [
              "<div>\n",
              "<style scoped>\n",
              "    .dataframe tbody tr th:only-of-type {\n",
              "        vertical-align: middle;\n",
              "    }\n",
              "\n",
              "    .dataframe tbody tr th {\n",
              "        vertical-align: top;\n",
              "    }\n",
              "\n",
              "    .dataframe thead th {\n",
              "        text-align: right;\n",
              "    }\n",
              "</style>\n",
              "<table border=\"1\" class=\"dataframe\">\n",
              "  <thead>\n",
              "    <tr style=\"text-align: right;\">\n",
              "      <th></th>\n",
              "      <th>X</th>\n",
              "      <th>Y</th>\n",
              "    </tr>\n",
              "  </thead>\n",
              "  <tbody>\n",
              "    <tr>\n",
              "      <th>count</th>\n",
              "      <td>200.000000</td>\n",
              "      <td>200.000000</td>\n",
              "    </tr>\n",
              "    <tr>\n",
              "      <th>mean</th>\n",
              "      <td>42.653360</td>\n",
              "      <td>0.500000</td>\n",
              "    </tr>\n",
              "    <tr>\n",
              "      <th>std</th>\n",
              "      <td>22.509026</td>\n",
              "      <td>0.501255</td>\n",
              "    </tr>\n",
              "    <tr>\n",
              "      <th>min</th>\n",
              "      <td>0.833255</td>\n",
              "      <td>0.000000</td>\n",
              "    </tr>\n",
              "    <tr>\n",
              "      <th>25%</th>\n",
              "      <td>28.262309</td>\n",
              "      <td>0.000000</td>\n",
              "    </tr>\n",
              "    <tr>\n",
              "      <th>50%</th>\n",
              "      <td>39.346934</td>\n",
              "      <td>0.500000</td>\n",
              "    </tr>\n",
              "    <tr>\n",
              "      <th>75%</th>\n",
              "      <td>51.796923</td>\n",
              "      <td>1.000000</td>\n",
              "    </tr>\n",
              "    <tr>\n",
              "      <th>max</th>\n",
              "      <td>99.098287</td>\n",
              "      <td>1.000000</td>\n",
              "    </tr>\n",
              "  </tbody>\n",
              "</table>\n",
              "</div>"
            ],
            "text/plain": [
              "                X           Y\n",
              "count  200.000000  200.000000\n",
              "mean    42.653360    0.500000\n",
              "std     22.509026    0.501255\n",
              "min      0.833255    0.000000\n",
              "25%     28.262309    0.000000\n",
              "50%     39.346934    0.500000\n",
              "75%     51.796923    1.000000\n",
              "max     99.098287    1.000000"
            ]
          },
          "metadata": {
            "tags": []
          },
          "execution_count": 23
        }
      ]
    },
    {
      "cell_type": "markdown",
      "metadata": {
        "id": "QKZQDF1T10v1",
        "colab_type": "text"
      },
      "source": [
        "TO DO: draw the histogram of df using hist().\n",
        "\n"
      ]
    },
    {
      "cell_type": "code",
      "metadata": {
        "id": "bS4o_1DbtRtD",
        "colab_type": "code",
        "colab": {
          "base_uri": "https://localhost:8080/",
          "height": 335
        },
        "outputId": "51a311d5-a5ec-40b0-bd73-8aa654b55b7c"
      },
      "source": [
        "df.hist()"
      ],
      "execution_count": null,
      "outputs": [
        {
          "output_type": "execute_result",
          "data": {
            "text/plain": [
              "array([[<matplotlib.axes._subplots.AxesSubplot object at 0x7f42de71b208>,\n",
              "        <matplotlib.axes._subplots.AxesSubplot object at 0x7f42de6c94a8>]],\n",
              "      dtype=object)"
            ]
          },
          "metadata": {
            "tags": []
          },
          "execution_count": 24
        },
        {
          "output_type": "display_data",
          "data": {
            "image/png": "[encoded data removed]",
            "text/plain": [
              "<Figure size 432x288 with 2 Axes>"
            ]
          },
          "metadata": {
            "tags": [],
            "needs_background": "light"
          }
        }
      ]
    },
    {
      "cell_type": "markdown",
      "metadata": {
        "id": "wFTNVi6n1-Pz",
        "colab_type": "text"
      },
      "source": [
        "TO DO: draw the scatter matrix of df using pd.plotting.scatter_matrix()."
      ]
    },
    {
      "cell_type": "code",
      "metadata": {
        "id": "ep6oKZSSzx-J",
        "colab_type": "code",
        "colab": {
          "base_uri": "https://localhost:8080/",
          "height": 379
        },
        "outputId": "213b44ec-43b5-44cd-bd69-d3e89ac21403"
      },
      "source": [
        "pd.plotting.scatter_matrix(df)"
      ],
      "execution_count": null,
      "outputs": [
        {
          "output_type": "execute_result",
          "data": {
            "text/plain": [
              "array([[<matplotlib.axes._subplots.AxesSubplot object at 0x7f42de600080>,\n",
              "        <matplotlib.axes._subplots.AxesSubplot object at 0x7f42de5b7668>],\n",
              "       [<matplotlib.axes._subplots.AxesSubplot object at 0x7f42de5698d0>,\n",
              "        <matplotlib.axes._subplots.AxesSubplot object at 0x7f42de59db38>]],\n",
              "      dtype=object)"
            ]
          },
          "metadata": {
            "tags": []
          },
          "execution_count": 25
        },
        {
          "output_type": "display_data",
          "data": {
            "image/png": "[encoded data removed]",
            "text/plain": [
              "<Figure size 432x288 with 4 Axes>"
            ]
          },
          "metadata": {
            "tags": [],
            "needs_background": "light"
          }
        }
      ]
    },
    {
      "cell_type": "markdown",
      "metadata": {
        "id": "wPaczh1I2MA8",
        "colab_type": "text"
      },
      "source": [
        "TO DO: save df into a text file './D.csv'."
      ]
    },
    {
      "cell_type": "code",
      "metadata": {
        "id": "AbrweN1Xz3U_",
        "colab_type": "code",
        "colab": {}
      },
      "source": [
        "df.to_csv(\"./D.csv\")"
      ],
      "execution_count": null,
      "outputs": []
    },
    {
      "cell_type": "markdown",
      "metadata": {
        "id": "-BfJufls2SkM",
        "colab_type": "text"
      },
      "source": [
        "TO DO: display the file list of the current directory to check D.csv was successfully created"
      ]
    },
    {
      "cell_type": "code",
      "metadata": {
        "id": "BG7CKek-0Isq",
        "colab_type": "code",
        "colab": {
          "base_uri": "https://localhost:8080/",
          "height": 35
        },
        "outputId": "5d95d1fb-cb14-42f4-837b-42269059638c"
      },
      "source": [
        "!ls"
      ],
      "execution_count": null,
      "outputs": [
        {
          "output_type": "stream",
          "text": [
            "D.csv  sample_data\n"
          ],
          "name": "stdout"
        }
      ]
    },
    {
      "cell_type": "markdown",
      "metadata": {
        "id": "CEwPwFBj2cwd",
        "colab_type": "text"
      },
      "source": [
        "TO DO: display the first 20 lines of D.csv using the UNIX command 'head'."
      ]
    },
    {
      "cell_type": "code",
      "metadata": {
        "id": "OsN7VJNH0bzY",
        "colab_type": "code",
        "colab": {
          "base_uri": "https://localhost:8080/",
          "height": 379
        },
        "outputId": "3e645cf5-586f-4dfd-8249-e7e1f11f4e0e"
      },
      "source": [
        "!head -n 20 \"./D.csv\""
      ],
      "execution_count": null,
      "outputs": [
        {
          "output_type": "stream",
          "text": [
            ",X,Y\n",
            "0,35.68743958208765,1.0\n",
            "1,30.467013425539747,0.0\n",
            "2,27.217389214255576,1.0\n",
            "3,62.808588738272384,0.0\n",
            "4,43.82396849504336,1.0\n",
            "5,39.91617049876901,0.0\n",
            "6,42.21761741805993,0.0\n",
            "7,41.44572135964472,1.0\n",
            "8,33.443091787055096,1.0\n",
            "9,44.474968987802974,0.0\n",
            "10,59.91408980965024,0.0\n",
            "11,0.8332549744804685,0.0\n",
            "12,32.73845927962687,0.0\n",
            "13,13.356166053814999,0.0\n",
            "14,26.34851008919037,1.0\n",
            "15,24.935054371907654,1.0\n",
            "16,61.38792344373376,0.0\n",
            "17,30.00688612584569,1.0\n",
            "18,42.60684915497367,1.0\n"
          ],
          "name": "stdout"
        }
      ]
    }
  ]
}