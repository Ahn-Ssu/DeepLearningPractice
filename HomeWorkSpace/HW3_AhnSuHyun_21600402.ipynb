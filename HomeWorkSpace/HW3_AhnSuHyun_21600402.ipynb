{
  "nbformat": 4,
  "nbformat_minor": 0,
  "metadata": {
    "colab": {
      "name": "HW_3_linear_classifiers_answer.ipynb",
      "provenance": [],
      "collapsed_sections": []
    },
    "kernelspec": {
      "name": "python3",
      "display_name": "Python 3"
    }
  },
  "cells": [
    {
      "cell_type": "code",
      "metadata": {
        "id": "zRMDSYJzIVoN"
      },
      "source": [
        "import numpy as np\n",
        "import sklearn as sk\n",
        "from sklearn.model_selection import train_test_split"
      ],
      "execution_count": null,
      "outputs": []
    },
    {
      "cell_type": "markdown",
      "metadata": {
        "id": "pKzPfWGw_uJb"
      },
      "source": [
        "TO DO: import load_wine from sklearn.datasets\n",
        " Then, create an instance __dataset__ by calling load_wine()"
      ]
    },
    {
      "cell_type": "code",
      "metadata": {
        "id": "38JjqKgiLVkb"
      },
      "source": [
        "from sklearn.datasets import load_wine\n",
        "wine_dataset = load_wine()"
      ],
      "execution_count": null,
      "outputs": []
    },
    {
      "cell_type": "markdown",
      "metadata": {
        "id": "xNg7UCY3_-Vq"
      },
      "source": [
        "TO DO: Display dataset.keys() and the elements of dataset."
      ]
    },
    {
      "cell_type": "code",
      "metadata": {
        "id": "X3r1_VXrLdbp",
        "outputId": "765ae15e-faf6-4e63-b952-569617b717fa",
        "colab": {
          "base_uri": "https://localhost:8080/",
          "height": 35
        }
      },
      "source": [
        "wine_dataset.keys()"
      ],
      "execution_count": null,
      "outputs": [
        {
          "output_type": "execute_result",
          "data": {
            "text/plain": [
              "dict_keys(['data', 'target', 'target_names', 'DESCR', 'feature_names'])"
            ]
          },
          "metadata": {
            "tags": []
          },
          "execution_count": 240
        }
      ]
    },
    {
      "cell_type": "code",
      "metadata": {
        "id": "TPvRsK5dLq6I",
        "outputId": "dbe7946f-c99a-414d-bee5-dd80d17144b6",
        "colab": {
          "base_uri": "https://localhost:8080/",
          "height": 1000
        }
      },
      "source": [
        "print(wine_dataset['DESCR'])"
      ],
      "execution_count": null,
      "outputs": [
        {
          "output_type": "stream",
          "text": [
            ".. _wine_dataset:\n",
            "\n",
            "Wine recognition dataset\n",
            "------------------------\n",
            "\n",
            "**Data Set Characteristics:**\n",
            "\n",
            "    :Number of Instances: 178 (50 in each of three classes)\n",
            "    :Number of Attributes: 13 numeric, predictive attributes and the class\n",
            "    :Attribute Information:\n",
            " \t\t- Alcohol\n",
            " \t\t- Malic acid\n",
            " \t\t- Ash\n",
            "\t\t- Alcalinity of ash  \n",
            " \t\t- Magnesium\n",
            "\t\t- Total phenols\n",
            " \t\t- Flavanoids\n",
            " \t\t- Nonflavanoid phenols\n",
            " \t\t- Proanthocyanins\n",
            "\t\t- Color intensity\n",
            " \t\t- Hue\n",
            " \t\t- OD280/OD315 of diluted wines\n",
            " \t\t- Proline\n",
            "\n",
            "    - class:\n",
            "            - class_0\n",
            "            - class_1\n",
            "            - class_2\n",
            "\t\t\n",
            "    :Summary Statistics:\n",
            "    \n",
            "    ============================= ==== ===== ======= =====\n",
            "                                   Min   Max   Mean     SD\n",
            "    ============================= ==== ===== ======= =====\n",
            "    Alcohol:                      11.0  14.8    13.0   0.8\n",
            "    Malic Acid:                   0.74  5.80    2.34  1.12\n",
            "    Ash:                          1.36  3.23    2.36  0.27\n",
            "    Alcalinity of Ash:            10.6  30.0    19.5   3.3\n",
            "    Magnesium:                    70.0 162.0    99.7  14.3\n",
            "    Total Phenols:                0.98  3.88    2.29  0.63\n",
            "    Flavanoids:                   0.34  5.08    2.03  1.00\n",
            "    Nonflavanoid Phenols:         0.13  0.66    0.36  0.12\n",
            "    Proanthocyanins:              0.41  3.58    1.59  0.57\n",
            "    Colour Intensity:              1.3  13.0     5.1   2.3\n",
            "    Hue:                          0.48  1.71    0.96  0.23\n",
            "    OD280/OD315 of diluted wines: 1.27  4.00    2.61  0.71\n",
            "    Proline:                       278  1680     746   315\n",
            "    ============================= ==== ===== ======= =====\n",
            "\n",
            "    :Missing Attribute Values: None\n",
            "    :Class Distribution: class_0 (59), class_1 (71), class_2 (48)\n",
            "    :Creator: R.A. Fisher\n",
            "    :Donor: Michael Marshall (MARSHALL%PLU@io.arc.nasa.gov)\n",
            "    :Date: July, 1988\n",
            "\n",
            "This is a copy of UCI ML Wine recognition datasets.\n",
            "https://archive.ics.uci.edu/ml/machine-learning-databases/wine/wine.data\n",
            "\n",
            "The data is the results of a chemical analysis of wines grown in the same\n",
            "region in Italy by three different cultivators. There are thirteen different\n",
            "measurements taken for different constituents found in the three types of\n",
            "wine.\n",
            "\n",
            "Original Owners: \n",
            "\n",
            "Forina, M. et al, PARVUS - \n",
            "An Extendible Package for Data Exploration, Classification and Correlation. \n",
            "Institute of Pharmaceutical and Food Analysis and Technologies,\n",
            "Via Brigata Salerno, 16147 Genoa, Italy.\n",
            "\n",
            "Citation:\n",
            "\n",
            "Lichman, M. (2013). UCI Machine Learning Repository\n",
            "[https://archive.ics.uci.edu/ml]. Irvine, CA: University of California,\n",
            "School of Information and Computer Science. \n",
            "\n",
            ".. topic:: References\n",
            "\n",
            "  (1) S. Aeberhard, D. Coomans and O. de Vel, \n",
            "  Comparison of Classifiers in High Dimensional Settings, \n",
            "  Tech. Rep. no. 92-02, (1992), Dept. of Computer Science and Dept. of  \n",
            "  Mathematics and Statistics, James Cook University of North Queensland. \n",
            "  (Also submitted to Technometrics). \n",
            "\n",
            "  The data was used with many others for comparing various \n",
            "  classifiers. The classes are separable, though only RDA \n",
            "  has achieved 100% correct classification. \n",
            "  (RDA : 100%, QDA 99.4%, LDA 98.9%, 1NN 96.1% (z-transformed data)) \n",
            "  (All results using the leave-one-out technique) \n",
            "\n",
            "  (2) S. Aeberhard, D. Coomans and O. de Vel, \n",
            "  \"THE CLASSIFICATION PERFORMANCE OF RDA\" \n",
            "  Tech. Rep. no. 92-01, (1992), Dept. of Computer Science and Dept. of \n",
            "  Mathematics and Statistics, James Cook University of North Queensland. \n",
            "  (Also submitted to Journal of Chemometrics).\n",
            "\n"
          ],
          "name": "stdout"
        }
      ]
    },
    {
      "cell_type": "code",
      "metadata": {
        "id": "wkMdM690lc5E",
        "outputId": "bc77c134-76db-4ade-83fd-7d1199584293",
        "colab": {
          "base_uri": "https://localhost:8080/",
          "height": 55
        }
      },
      "source": [
        "print(wine_dataset['feature_names'])"
      ],
      "execution_count": null,
      "outputs": [
        {
          "output_type": "stream",
          "text": [
            "['alcohol', 'malic_acid', 'ash', 'alcalinity_of_ash', 'magnesium', 'total_phenols', 'flavanoids', 'nonflavanoid_phenols', 'proanthocyanins', 'color_intensity', 'hue', 'od280/od315_of_diluted_wines', 'proline']\n"
          ],
          "name": "stdout"
        }
      ]
    },
    {
      "cell_type": "code",
      "metadata": {
        "id": "hTYBz8xhLwUA",
        "outputId": "e1e4ce0b-c3f3-4600-aaa2-06fc8251d80b",
        "colab": {
          "base_uri": "https://localhost:8080/",
          "height": 139
        }
      },
      "source": [
        "print(wine_dataset['data'])"
      ],
      "execution_count": null,
      "outputs": [
        {
          "output_type": "stream",
          "text": [
            "[[1.423e+01 1.710e+00 2.430e+00 ... 1.040e+00 3.920e+00 1.065e+03]\n",
            " [1.320e+01 1.780e+00 2.140e+00 ... 1.050e+00 3.400e+00 1.050e+03]\n",
            " [1.316e+01 2.360e+00 2.670e+00 ... 1.030e+00 3.170e+00 1.185e+03]\n",
            " ...\n",
            " [1.327e+01 4.280e+00 2.260e+00 ... 5.900e-01 1.560e+00 8.350e+02]\n",
            " [1.317e+01 2.590e+00 2.370e+00 ... 6.000e-01 1.620e+00 8.400e+02]\n",
            " [1.413e+01 4.100e+00 2.740e+00 ... 6.100e-01 1.600e+00 5.600e+02]]\n"
          ],
          "name": "stdout"
        }
      ]
    },
    {
      "cell_type": "code",
      "metadata": {
        "id": "dsoGDcRGlZGV",
        "outputId": "3990c082-9d04-406f-f42b-3ec637ae7188",
        "colab": {
          "base_uri": "https://localhost:8080/",
          "height": 35
        }
      },
      "source": [
        "print(wine_dataset['target_names'])"
      ],
      "execution_count": null,
      "outputs": [
        {
          "output_type": "stream",
          "text": [
            "['class_0' 'class_1' 'class_2']\n"
          ],
          "name": "stdout"
        }
      ]
    },
    {
      "cell_type": "code",
      "metadata": {
        "id": "xoz5_O0RL8cO",
        "outputId": "ba71dea0-e3c1-421d-eca4-2ae7c46ee361",
        "colab": {
          "base_uri": "https://localhost:8080/",
          "height": 104
        }
      },
      "source": [
        "print(wine_dataset['target'])"
      ],
      "execution_count": null,
      "outputs": [
        {
          "output_type": "stream",
          "text": [
            "[0 0 0 0 0 0 0 0 0 0 0 0 0 0 0 0 0 0 0 0 0 0 0 0 0 0 0 0 0 0 0 0 0 0 0 0 0\n",
            " 0 0 0 0 0 0 0 0 0 0 0 0 0 0 0 0 0 0 0 0 0 0 1 1 1 1 1 1 1 1 1 1 1 1 1 1 1\n",
            " 1 1 1 1 1 1 1 1 1 1 1 1 1 1 1 1 1 1 1 1 1 1 1 1 1 1 1 1 1 1 1 1 1 1 1 1 1\n",
            " 1 1 1 1 1 1 1 1 1 1 1 1 1 1 1 1 1 1 1 2 2 2 2 2 2 2 2 2 2 2 2 2 2 2 2 2 2\n",
            " 2 2 2 2 2 2 2 2 2 2 2 2 2 2 2 2 2 2 2 2 2 2 2 2 2 2 2 2 2 2]\n"
          ],
          "name": "stdout"
        }
      ]
    },
    {
      "cell_type": "markdown",
      "metadata": {
        "id": "2CbXJoepATMI"
      },
      "source": [
        "TO DO: Split dataset into train and test sets, and print the shape of X_train, y_train, X_test and y_test"
      ]
    },
    {
      "cell_type": "code",
      "metadata": {
        "id": "WXswUsplL-vJ",
        "outputId": "73d76c56-2fd3-4a32-d7b2-a330bd45e68c",
        "colab": {
          "base_uri": "https://localhost:8080/",
          "height": 87
        }
      },
      "source": [
        "from sklearn.model_selection import train_test_split\n",
        "X_train, X_test, y_train, y_test = train_test_split(wine_dataset['data'],wine_dataset['target'],random_state=0)\n",
        "\n",
        "\n",
        "print(\"X_train.shape =\",X_train.shape)\n",
        "print(\"y_train.shape =\",y_train.shape)\n",
        "print(\"X_test.shape =\", X_test.shape)\n",
        "print(\"y_test.shape =\", y_test.shape)"
      ],
      "execution_count": null,
      "outputs": [
        {
          "output_type": "stream",
          "text": [
            "X_train.shape = (133, 13)\n",
            "y_train.shape = (133,)\n",
            "X_test.shape = (45, 13)\n",
            "y_test.shape = (45,)\n"
          ],
          "name": "stdout"
        }
      ]
    },
    {
      "cell_type": "markdown",
      "metadata": {
        "id": "lX1xxXFyDUMa"
      },
      "source": [
        "TO DO: Build a classifier for the wine dataset using LogisicRegression, and print the accuracy on the training and test data.\n"
      ]
    },
    {
      "cell_type": "code",
      "metadata": {
        "id": "u9sTOX_f1RTl",
        "outputId": "494d0d75-4530-454c-ba18-9fb44bfab89d",
        "colab": {
          "base_uri": "https://localhost:8080/",
          "height": 191
        }
      },
      "source": [
        "from sklearn.linear_model import LogisticRegression\n",
        "logi_reg = LogisticRegression().fit(X_train,y_train)\n",
        "\n",
        "print(\"train score = {}\".format(logi_reg.score(X_train,y_train)))\n",
        "print(\"train score = {}\".format(logi_reg.score(X_test,y_test)))"
      ],
      "execution_count": null,
      "outputs": [
        {
          "output_type": "stream",
          "text": [
            "train score = 0.9924812030075187\n",
            "train score = 0.9333333333333333\n"
          ],
          "name": "stdout"
        },
        {
          "output_type": "stream",
          "text": [
            "/usr/local/lib/python3.6/dist-packages/sklearn/linear_model/_logistic.py:940: ConvergenceWarning: lbfgs failed to converge (status=1):\n",
            "STOP: TOTAL NO. of ITERATIONS REACHED LIMIT.\n",
            "\n",
            "Increase the number of iterations (max_iter) or scale the data as shown in:\n",
            "    https://scikit-learn.org/stable/modules/preprocessing.html\n",
            "Please also refer to the documentation for alternative solver options:\n",
            "    https://scikit-learn.org/stable/modules/linear_model.html#logistic-regression\n",
            "  extra_warning_msg=_LOGISTIC_SOLVER_CONVERGENCE_MSG)\n"
          ],
          "name": "stderr"
        }
      ]
    },
    {
      "cell_type": "markdown",
      "metadata": {
        "id": "RJiONBoRD58c"
      },
      "source": [
        "TO DO: Save the weight matrix and bias vector of the LogisticRegression instance as W_lr and b_lr. Then, print them."
      ]
    },
    {
      "cell_type": "code",
      "metadata": {
        "id": "Qh1T4ZYv5RL4",
        "outputId": "6049abe0-c98b-4c7b-b244-847ea1794bcc",
        "colab": {
          "base_uri": "https://localhost:8080/",
          "height": 243
        }
      },
      "source": [
        "W_lr = logi_reg.coef_\n",
        "b_lr = logi_reg.intercept_\n",
        "\n",
        "print(\"W_lr = {}\".format(W_lr))\n",
        "print(\"b_lr = {}\".format(b_lr))"
      ],
      "execution_count": null,
      "outputs": [
        {
          "output_type": "stream",
          "text": [
            "W_lr = [[-1.32186429e-01  3.23965050e-01  1.84092284e-01 -2.58932260e-01\n",
            "  -3.55944236e-02  2.38697315e-01  5.82114322e-01 -2.22946486e-02\n",
            "   9.92276027e-02  1.09948852e-01 -1.73973402e-02  4.10341111e-01\n",
            "   8.36031752e-03]\n",
            " [ 5.99095455e-01 -7.17070268e-01 -2.00230225e-01  2.11071050e-01\n",
            "  -1.04352065e-02  2.06746427e-01  3.95799510e-01  1.36191938e-02\n",
            "   3.85959371e-01 -1.24982865e+00  2.65765529e-01  4.38399876e-01\n",
            "  -8.01466640e-03]\n",
            " [-4.66909026e-01  3.93105218e-01  1.61379407e-02  4.78612099e-02\n",
            "   4.60296301e-02 -4.45443742e-01 -9.77913832e-01  8.67545481e-03\n",
            "  -4.85186974e-01  1.13987979e+00 -2.48368189e-01 -8.48740987e-01\n",
            "  -3.45651121e-04]]\n",
            "b_lr = [-0.04937168  0.10908187 -0.05971019]\n"
          ],
          "name": "stdout"
        }
      ]
    },
    {
      "cell_type": "markdown",
      "metadata": {
        "id": "alKUm1U8Edmz"
      },
      "source": [
        "TO DO: Build a classifier for the wine dataset using LinearSVC, and print the accuracy on the training and test data."
      ]
    },
    {
      "cell_type": "code",
      "metadata": {
        "id": "Yyl-vVDQmD1N",
        "outputId": "2cba12a4-4eb2-46de-becc-edff17ae6c45",
        "colab": {
          "base_uri": "https://localhost:8080/",
          "height": 107
        }
      },
      "source": [
        "from sklearn.svm import LinearSVC\n",
        "\n",
        "LSVC = LinearSVC().fit(X_train,y_train)\n",
        "\n",
        "print(\"train score = {}\".format(LSVC.score(X_train,y_train)))\n",
        "print(\"train score = {}\".format(LSVC.score(X_test,y_test)))"
      ],
      "execution_count": null,
      "outputs": [
        {
          "output_type": "stream",
          "text": [
            "train score = 0.8721804511278195\n",
            "train score = 0.8444444444444444\n"
          ],
          "name": "stdout"
        },
        {
          "output_type": "stream",
          "text": [
            "/usr/local/lib/python3.6/dist-packages/sklearn/svm/_base.py:947: ConvergenceWarning: Liblinear failed to converge, increase the number of iterations.\n",
            "  \"the number of iterations.\", ConvergenceWarning)\n"
          ],
          "name": "stderr"
        }
      ]
    },
    {
      "cell_type": "markdown",
      "metadata": {
        "id": "xoUZ6HwWE35T"
      },
      "source": [
        "TO DO: Save the weight matrix and bias vector of the LinearSVC instance as W_svc and b_svc. Then, print them."
      ]
    },
    {
      "cell_type": "code",
      "metadata": {
        "id": "JxPkuSWsuoiV",
        "outputId": "481781e2-2568-42c4-a8cb-ba59f25c7b73",
        "colab": {
          "base_uri": "https://localhost:8080/",
          "height": 243
        }
      },
      "source": [
        "W_svc = LSVC.coef_\n",
        "b_svc = LSVC.intercept_\n",
        "\n",
        "print(\"W_svc = {}\".format(W_svc))\n",
        "print(\"b_svc = {}\".format(b_svc))"
      ],
      "execution_count": null,
      "outputs": [
        {
          "output_type": "stream",
          "text": [
            "W_svc = [[-2.78505946e-02 -1.91070975e-03 -1.22114678e-03 -1.04789668e-01\n",
            "  -8.03132258e-03  1.00121470e-02  3.07108803e-02 -4.00283863e-03\n",
            "   7.74212278e-03 -1.96587023e-02 -8.44826133e-04  1.69274746e-02\n",
            "   3.63798960e-03]\n",
            " [ 4.75354070e-02 -8.01138655e-02 -6.44210149e-03  3.20803143e-02\n",
            "   5.05881918e-03  4.34221986e-02  7.64850225e-02  3.43489167e-05\n",
            "   4.54401722e-02 -1.97821454e-01  3.18631918e-02  8.75456704e-02\n",
            "  -3.52477041e-03]\n",
            " [-4.59003383e-02  8.09546947e-02  1.11734576e-03  8.17228541e-03\n",
            "  -2.15596322e-03 -6.16656652e-02 -1.24727677e-01  2.64673991e-03\n",
            "  -5.51896112e-02  2.15439050e-01 -3.29809926e-02 -1.15590564e-01\n",
            "  -2.48005450e-04]]\n",
            "b_svc = [-0.00404202  0.00918405 -0.00687752]\n"
          ],
          "name": "stdout"
        }
      ]
    },
    {
      "cell_type": "markdown",
      "metadata": {
        "id": "fZk0kiO0Aiop"
      },
      "source": [
        "TO DO: Define a class __SimpleLinearClassifier__ composed of the following functions:\n",
        "\n",
        "* __\\_\\_init\\_\\___(self, weight, bias) - takes a weight matrix and a bias vector as input and stores them in instance variables\n",
        "\n",
        "* __predict(self, X)__ - takes an array of rank 2 as input, and returns the classification results as an array of rank 1\n",
        "\n",
        "* __probability(self, X)__ - takes an array of rank 2 as input and returns the probabilities that each sample belongs to each class as an array of rank 2. (You need to implement the softmax function to convert logits into probabilities.)\n",
        "\n",
        "* __score(self, X, y)__ - takes an input data (rank 2) and a target vector (rank 1) as input, and returns the accuracy as a scalar value.\n",
        "\n",
        "\n",
        "The __SimpleLinearClassifier__ should work as the following examples."
      ]
    },
    {
      "cell_type": "code",
      "metadata": {
        "id": "pDnCF1mjvFJA"
      },
      "source": [
        "# Define SimpleLienarClassfier here.\n",
        "\n",
        "class SimpleLinearClassifier:\n",
        "  weight = [[]]\n",
        "  bias = []\n",
        "\n",
        "  def __init__(self,weight,bias):\n",
        "    self.weight = weight\n",
        "    self.bias = bias\n",
        "\n",
        "  def predict(self, X):\n",
        "    result = []\n",
        "    for feature in X:\n",
        "      y = np.sum((feature*self.weight),axis=1) + self.bias\n",
        "      \n",
        "      result.append(np.argmax(y))\n",
        "      # result = np.append(result, np.argmax(y))\n",
        "      \n",
        "         \n",
        "    return np.array(result) \n",
        "\n",
        "  def probability(self, X):\n",
        "    result = []\n",
        "    for feature in X:\n",
        "      y = np.sum((feature*self.weight),axis=1) + self.bias\n",
        "      y = ( np.exp(y)/ np.sum(np.exp(y)))\n",
        "      result.append(y)\n",
        "\n",
        "    \n",
        "    return np.array(result)\n",
        "\n",
        "\n",
        "  def score(self, X, y):\n",
        "    return np.equal(self.predict(X),y).mean()\n",
        "  \n",
        "  \n",
        "   "
      ],
      "execution_count": null,
      "outputs": []
    },
    {
      "cell_type": "markdown",
      "metadata": {
        "id": "IuSYy99-FOAa"
      },
      "source": [
        "TO DO: Create a SimpleLinearClassfier instance simple_lr using W_lr and b_lr. Then, print the accuracy on the training and test data.<br>\n",
        "(The accuracies should be the same as those of the LogisticRegression instance.)"
      ]
    },
    {
      "cell_type": "code",
      "metadata": {
        "id": "MJFs7pAg6IOY",
        "outputId": "caa33f0d-32ab-4004-cc54-adc0b451b92e",
        "colab": {
          "base_uri": "https://localhost:8080/",
          "height": 52
        }
      },
      "source": [
        "simple_lr = SimpleLinearClassifier(W_lr,b_lr)\n",
        "\n",
        "print(\"train score = {}\".format(simple_lr.score(X_train,y_train)))\n",
        "print(\"test score = {}\".format(simple_lr.score(X_test,y_test)))"
      ],
      "execution_count": null,
      "outputs": [
        {
          "output_type": "stream",
          "text": [
            "train score = 0.9924812030075187\n",
            "test score = 0.9333333333333333\n"
          ],
          "name": "stdout"
        }
      ]
    },
    {
      "cell_type": "markdown",
      "metadata": {
        "id": "bhi2Zmx3FaPx"
      },
      "source": [
        "TO DO: Display the results of simple_lr.predict(X_test) along with y_test."
      ]
    },
    {
      "cell_type": "code",
      "metadata": {
        "id": "2laJOWR1GnmO",
        "outputId": "6fe96260-ca0f-48b6-e88d-2cbfbe2e01d8",
        "colab": {
          "base_uri": "https://localhost:8080/",
          "height": 87
        }
      },
      "source": [
        "print(\"y_hat = {}\".format(simple_lr.predict(X_test)))\n",
        "print(\"y_test = {}\".format(y_test))"
      ],
      "execution_count": null,
      "outputs": [
        {
          "output_type": "stream",
          "text": [
            "y_hat = [0 2 1 0 1 1 0 2 1 1 2 2 0 1 2 1 0 0 2 0 1 0 1 1 1 1 1 1 1 2 0 0 1 0 0 0 2\n",
            " 1 1 2 1 0 1 1 1]\n",
            "y_test = [0 2 1 0 1 1 0 2 1 1 2 2 0 1 2 1 0 0 1 0 1 0 0 1 1 1 1 1 1 2 0 0 1 0 0 0 2\n",
            " 1 1 2 0 0 1 1 1]\n"
          ],
          "name": "stdout"
        }
      ]
    },
    {
      "cell_type": "markdown",
      "metadata": {
        "id": "BfSGdKXfKAwJ"
      },
      "source": [
        "TO DO: Display the result of simple_lr.probability(X_test).\n",
        "Then, check whether the sum of each row makes one."
      ]
    },
    {
      "cell_type": "code",
      "metadata": {
        "id": "cFMpwp9IHSeH",
        "outputId": "13c32987-c28e-4b9d-9136-8790639ca4e7",
        "colab": {
          "base_uri": "https://localhost:8080/",
          "height": 835
        }
      },
      "source": [
        "print(\"prob =\", simple_lr.probability(X_test)) \n",
        "print(\"The sum of rows =\", np.sum(simple_lr.probability(X_test), axis=1))"
      ],
      "execution_count": null,
      "outputs": [
        {
          "output_type": "stream",
          "text": [
            "prob = [[9.91523974e-01 1.06809396e-03 7.40793157e-03]\n",
            " [3.77327532e-06 1.30747729e-07 9.99996096e-01]\n",
            " [3.44245206e-03 9.96346395e-01 2.11152743e-04]\n",
            " [9.84160185e-01 1.48380428e-03 1.43560112e-02]\n",
            " [3.47198262e-03 9.96246866e-01 2.81151540e-04]\n",
            " [3.24070085e-03 9.92522269e-01 4.23702975e-03]\n",
            " [9.98974254e-01 8.79461736e-05 9.37799443e-04]\n",
            " [9.33756528e-04 9.70685064e-05 9.98969175e-01]\n",
            " [7.45239054e-03 9.91861675e-01 6.85934882e-04]\n",
            " [1.77271256e-03 9.97704602e-01 5.22685383e-04]\n",
            " [8.96380394e-02 1.14086635e-02 8.98953297e-01]\n",
            " [2.34976560e-03 2.79276387e-02 9.69722596e-01]\n",
            " [9.99918361e-01 3.14178153e-07 8.13251425e-05]\n",
            " [1.98520006e-01 8.00879300e-01 6.00693636e-04]\n",
            " [3.52047348e-04 1.71638882e-05 9.99630789e-01]\n",
            " [2.14401123e-05 9.99974013e-01 4.54707456e-06]\n",
            " [9.88633382e-01 7.01422817e-04 1.06651955e-02]\n",
            " [9.99961126e-01 9.20343542e-10 3.88732006e-05]\n",
            " [8.16704638e-03 1.12844947e-01 8.78988007e-01]\n",
            " [9.99869347e-01 5.27342750e-05 7.79184901e-05]\n",
            " [1.18290976e-01 8.81018904e-01 6.90119562e-04]\n",
            " [9.94392087e-01 3.44935863e-03 2.15855428e-03]\n",
            " [2.07414515e-01 7.55193122e-01 3.73923624e-02]\n",
            " [1.94639571e-02 9.80212270e-01 3.23772406e-04]\n",
            " [1.07751319e-01 7.24642471e-01 1.67606210e-01]\n",
            " [3.78945715e-05 9.99951144e-01 1.09617796e-05]\n",
            " [3.20635503e-04 9.99599242e-01 8.01223690e-05]\n",
            " [1.91276710e-04 9.99552481e-01 2.56242489e-04]\n",
            " [9.64174744e-02 7.39841661e-01 1.63740864e-01]\n",
            " [1.31114037e-04 3.48019486e-06 9.99865406e-01]\n",
            " [9.99785525e-01 1.30045516e-04 8.44292521e-05]\n",
            " [9.87939816e-01 3.18735705e-03 8.87282661e-03]\n",
            " [3.89804360e-02 9.53118746e-01 7.90081777e-03]\n",
            " [9.94250149e-01 4.95657185e-04 5.25419401e-03]\n",
            " [9.98062914e-01 1.69035459e-03 2.46731449e-04]\n",
            " [9.61686644e-01 3.44021345e-02 3.91122141e-03]\n",
            " [5.92062020e-03 2.57860959e-03 9.91500770e-01]\n",
            " [9.42561593e-04 9.97889216e-01 1.16822269e-03]\n",
            " [1.05542635e-03 9.98393747e-01 5.50826873e-04]\n",
            " [1.67354415e-03 5.40514892e-05 9.98272404e-01]\n",
            " [3.36366096e-01 6.63093753e-01 5.40151036e-04]\n",
            " [9.98871505e-01 4.65049896e-04 6.63445372e-04]\n",
            " [1.43545697e-04 9.99846498e-01 9.95587894e-06]\n",
            " [2.25411270e-03 9.97284662e-01 4.61225520e-04]\n",
            " [3.66429611e-04 9.99267980e-01 3.65590529e-04]]\n",
            "The sum of rows = [1. 1. 1. 1. 1. 1. 1. 1. 1. 1. 1. 1. 1. 1. 1. 1. 1. 1. 1. 1. 1. 1. 1. 1.\n",
            " 1. 1. 1. 1. 1. 1. 1. 1. 1. 1. 1. 1. 1. 1. 1. 1. 1. 1. 1. 1. 1.]\n"
          ],
          "name": "stdout"
        }
      ]
    },
    {
      "cell_type": "markdown",
      "metadata": {
        "id": "9FfCL3TlKWoQ"
      },
      "source": [
        "TO DO: Print the accuracy on the training and test data."
      ]
    },
    {
      "cell_type": "code",
      "metadata": {
        "id": "mpI7u0MTHXgN",
        "outputId": "712c5e49-938e-49a4-cc1d-72aa6c8318ac",
        "colab": {
          "base_uri": "https://localhost:8080/",
          "height": 52
        }
      },
      "source": [
        "print(\"train score = {}\".format(simple_lr.score(X_train,y_train)))\n",
        "print(\"test score = {}\".format(simple_lr.score(X_test,y_test)))"
      ],
      "execution_count": null,
      "outputs": [
        {
          "output_type": "stream",
          "text": [
            "train score = 0.9924812030075187\n",
            "test score = 0.9333333333333333\n"
          ],
          "name": "stdout"
        }
      ]
    },
    {
      "cell_type": "markdown",
      "metadata": {
        "id": "mQTnq0KhGwf5"
      },
      "source": [
        "TO DO: Create a SimpleLinearClassfier instance simple_svc using W_svc and b_svc. Then, print the accuracy on the training and test data.<br>\n",
        "(The accuracies should be the same as those of the LinearSVC instance.)"
      ]
    },
    {
      "cell_type": "code",
      "metadata": {
        "id": "dyhGFRmS-6gc",
        "outputId": "3dc77c05-ec1c-4cc5-f426-849cf97480d1",
        "colab": {
          "base_uri": "https://localhost:8080/",
          "height": 52
        }
      },
      "source": [
        "simple_svc = SimpleLinearClassifier(W_svc,b_svc)\n",
        "\n",
        "print(\"train score = {}\".format(simple_svc.score(X_train,y_train)))\n",
        "print(\"test score = {}\".format(simple_svc.score(X_test,y_test)))"
      ],
      "execution_count": null,
      "outputs": [
        {
          "output_type": "stream",
          "text": [
            "train score = 0.8721804511278195\n",
            "test score = 0.8444444444444444\n"
          ],
          "name": "stdout"
        }
      ]
    },
    {
      "cell_type": "markdown",
      "metadata": {
        "id": "TiX8oew5KlbY"
      },
      "source": [
        "TO DO: Display the results of simple_svc.predict(X_test) along with y_test."
      ]
    },
    {
      "cell_type": "code",
      "metadata": {
        "id": "j2PSAoU4yTEZ",
        "outputId": "baa65a51-8255-4a42-dd2a-48f5ddc12091",
        "colab": {
          "base_uri": "https://localhost:8080/",
          "height": 87
        }
      },
      "source": [
        "print(\"y_hat = {}\".format(simple_svc.predict(X_test)))\n",
        "print(\"y_test = {}\".format(y_test))"
      ],
      "execution_count": null,
      "outputs": [
        {
          "output_type": "stream",
          "text": [
            "y_hat = [0 2 1 0 1 1 0 2 1 1 2 2 0 0 2 1 0 0 2 0 1 0 2 0 0 1 1 1 2 2 0 0 2 0 0 0 2\n",
            " 1 1 2 0 0 1 1 1]\n",
            "y_test = [0 2 1 0 1 1 0 2 1 1 2 2 0 1 2 1 0 0 1 0 1 0 0 1 1 1 1 1 1 2 0 0 1 0 0 0 2\n",
            " 1 1 2 0 0 1 1 1]\n"
          ],
          "name": "stdout"
        }
      ]
    },
    {
      "cell_type": "markdown",
      "metadata": {
        "id": "VykOf3HbLAYZ"
      },
      "source": [
        "TO DO: Display the result of simple_svc.probability(X_test).\n",
        "Then, check whether the sum of each row makes one."
      ]
    },
    {
      "cell_type": "code",
      "metadata": {
        "id": "Ad_Z4IP7FV6p",
        "outputId": "18b74650-6b73-4086-ba79-84ada2d952db",
        "colab": {
          "base_uri": "https://localhost:8080/",
          "height": 835
        }
      },
      "source": [
        "print(\"prob =\", simple_svc.probability(X_test)) \n",
        "print(\"The sum of rows =\", np.sum(simple_svc.probability(X_test), axis=1))"
      ],
      "execution_count": null,
      "outputs": [
        {
          "output_type": "stream",
          "text": [
            "prob = [[7.95384546e-01 2.65129991e-02 1.78102454e-01]\n",
            " [3.72910660e-02 4.33387062e-02 9.19370228e-01]\n",
            " [1.46002302e-01 5.67131077e-01 2.86866621e-01]\n",
            " [7.50929442e-01 2.61137011e-02 2.22956857e-01]\n",
            " [8.95246718e-02 6.25672365e-01 2.84802963e-01]\n",
            " [5.24009715e-02 6.18602995e-01 3.28996033e-01]\n",
            " [9.08125833e-01 7.82804204e-03 8.40461251e-02]\n",
            " [9.43398760e-02 8.21586412e-02 8.23501483e-01]\n",
            " [2.29346316e-01 4.37954610e-01 3.32699074e-01]\n",
            " [2.03159940e-01 4.88338235e-01 3.08501825e-01]\n",
            " [3.55296603e-01 7.30561936e-02 5.71647204e-01]\n",
            " [8.93792369e-02 1.95234440e-01 7.15386323e-01]\n",
            " [9.54512038e-01 1.38828054e-03 4.40996814e-02]\n",
            " [4.26005741e-01 2.85374051e-01 2.88620208e-01]\n",
            " [1.26634994e-01 4.36616611e-02 8.29703345e-01]\n",
            " [5.72768518e-02 7.94633189e-01 1.48089959e-01]\n",
            " [8.47458251e-01 1.60777912e-02 1.36463958e-01]\n",
            " [9.69942801e-01 2.25929293e-04 2.98312699e-02]\n",
            " [1.54762645e-01 2.58197891e-01 5.87039464e-01]\n",
            " [9.17109757e-01 6.32774179e-03 7.65625017e-02]\n",
            " [3.29909309e-01 3.43755278e-01 3.26335412e-01]\n",
            " [8.37727148e-01 2.26970664e-02 1.39575786e-01]\n",
            " [3.57300023e-01 2.66344370e-01 3.76355608e-01]\n",
            " [3.71902418e-01 3.35367768e-01 2.92729814e-01]\n",
            " [4.41214794e-01 1.98005840e-01 3.60779366e-01]\n",
            " [5.94022859e-02 7.68090827e-01 1.72506887e-01]\n",
            " [7.53140463e-02 6.73638957e-01 2.51046997e-01]\n",
            " [1.27362235e-01 5.76020333e-01 2.96617432e-01]\n",
            " [2.58312624e-01 2.98911502e-01 4.42775873e-01]\n",
            " [8.39759854e-02 3.62460835e-02 8.79777931e-01]\n",
            " [9.11840111e-01 9.35239713e-03 7.88074915e-02]\n",
            " [7.23526528e-01 4.47800890e-02 2.31693383e-01]\n",
            " [2.31524038e-01 3.53458724e-01 4.15017238e-01]\n",
            " [7.58002986e-01 2.67205191e-02 2.15276495e-01]\n",
            " [8.63418292e-01 2.15260667e-02 1.15055641e-01]\n",
            " [6.81536942e-01 8.50293328e-02 2.33433725e-01]\n",
            " [2.20296048e-01 1.06769896e-01 6.72934056e-01]\n",
            " [1.71185013e-01 4.57532647e-01 3.71282340e-01]\n",
            " [9.70025923e-02 6.62242128e-01 2.40755280e-01]\n",
            " [1.69811212e-01 5.10256464e-02 7.79163141e-01]\n",
            " [5.96878449e-01 1.73463281e-01 2.29658270e-01]\n",
            " [8.60476029e-01 1.13197733e-02 1.28204197e-01]\n",
            " [7.02942325e-02 7.69988278e-01 1.59717490e-01]\n",
            " [2.71920395e-01 4.31960254e-01 2.96119351e-01]\n",
            " [1.19964178e-01 5.94918487e-01 2.85117335e-01]]\n",
            "The sum of rows = [1. 1. 1. 1. 1. 1. 1. 1. 1. 1. 1. 1. 1. 1. 1. 1. 1. 1. 1. 1. 1. 1. 1. 1.\n",
            " 1. 1. 1. 1. 1. 1. 1. 1. 1. 1. 1. 1. 1. 1. 1. 1. 1. 1. 1. 1. 1.]\n"
          ],
          "name": "stdout"
        }
      ]
    },
    {
      "cell_type": "markdown",
      "metadata": {
        "id": "8tkrI3OVKcvI"
      },
      "source": [
        "TO DO: Print the accuracy on the training and test data."
      ]
    },
    {
      "cell_type": "code",
      "metadata": {
        "id": "7cZqFbAHyfqH",
        "outputId": "44f1d828-4239-433e-aa48-56cfff62973d",
        "colab": {
          "base_uri": "https://localhost:8080/",
          "height": 52
        }
      },
      "source": [
        "print(\"train score = {}\".format(simple_svc.score(X_train,y_train)))\n",
        "print(\"test score = {}\".format(simple_svc.score(X_test,y_test)))"
      ],
      "execution_count": null,
      "outputs": [
        {
          "output_type": "stream",
          "text": [
            "train score = 0.8721804511278195\n",
            "test score = 0.8444444444444444\n"
          ],
          "name": "stdout"
        }
      ]
    },
    {
      "cell_type": "code",
      "metadata": {
        "id": "1PiZ-DBQ7lkp"
      },
      "source": [
        ""
      ],
      "execution_count": null,
      "outputs": []
    }
  ]
}